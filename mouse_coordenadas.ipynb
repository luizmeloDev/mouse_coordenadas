{
  "nbformat": 4,
  "nbformat_minor": 0,
  "metadata": {
    "colab": {
      "name": "Untitled1.ipynb",
      "provenance": [],
      "authorship_tag": "ABX9TyNMJx2b0qPIMTh7QK9aD8U6",
      "include_colab_link": true
    },
    "kernelspec": {
      "name": "python3",
      "display_name": "Python 3"
    }
  },
  "cells": [
    {
      "cell_type": "markdown",
      "metadata": {
        "id": "view-in-github",
        "colab_type": "text"
      },
      "source": [
        "<a href=\"https://colab.research.google.com/github/luizmeloDev/mouse_coordenadas/blob/main/mouse_coordenadas.ipynb\" target=\"_parent\"><img src=\"https://colab.research.google.com/assets/colab-badge.svg\" alt=\"Open In Colab\"/></a>"
      ]
    },
    {
      "cell_type": "code",
      "metadata": {
        "id": "CanrYzKLRvdw"
      },
      "source": [
        "#mouseNow.py - EXIBE A POSIÇÃO ATUAL DO CURSOR DO MOUSE.\n",
        "\n",
        "import pyautogui\n",
        "\n",
        "\n",
        "print('Press Ctrl-C to quit')\n",
        "\n",
        "#TODO: Obtém e exibe as coordenadas do mouse.\n",
        "\n",
        "    #Obtém a exibe as coordenadas do mouse.\n",
        "\n",
        "\n",
        "x, y = pyautogui.position()\n",
        "positionStr = 'X:' + str(x).rjust(4) + 'Y:' + str(y).rjust(4)\n",
        "pixelColor = pyautogui.screenshot().getpixel((x, y))\n",
        "positionStr += ' RGB:(' +str(pixelColor[0]).rjust(3)\n",
        "positionStr += ', ' +str(pixelColor[1]).rjust(3)\n",
        "positionStr += ', ' +str(pixelColor[2]).rjust(3) + ')'\n",
        "pyautogui.pixelMatchesColor(50, 200, (130, 135, 144))\n",
        "pyautogui.pixelMatchesColor(50, 200, (255, 135, 144))\n",
        "pyautogui.screenshot()\n",
        "pyautogui.screenshot('Log_in.png')\n",
        "\n",
        "print(positionStr, end='')\n"
      ],
      "execution_count": null,
      "outputs": []
    }
  ]
}